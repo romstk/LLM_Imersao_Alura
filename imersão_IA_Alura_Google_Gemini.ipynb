{
  "nbformat": 4,
  "nbformat_minor": 0,
  "metadata": {
    "colab": {
      "provenance": [],
      "authorship_tag": "ABX9TyPfT03P2ofe+7hQ28gEGZE7",
      "include_colab_link": true
    },
    "kernelspec": {
      "name": "python3",
      "display_name": "Python 3"
    },
    "language_info": {
      "name": "python"
    }
  },
  "cells": [
    {
      "cell_type": "markdown",
      "metadata": {
        "id": "view-in-github",
        "colab_type": "text"
      },
      "source": [
        "<a href=\"https://colab.research.google.com/github/romstk/LLM_Imersao_Alura/blob/main/imers%C3%A3o_IA_Alura_Google_Gemini.ipynb\" target=\"_parent\"><img src=\"https://colab.research.google.com/assets/colab-badge.svg\" alt=\"Open In Colab\"/></a>"
      ]
    },
    {
      "cell_type": "markdown",
      "source": [
        "Instalando a SDK do google"
      ],
      "metadata": {
        "id": "JOjPNn8nPgDv"
      }
    },
    {
      "cell_type": "code",
      "execution_count": null,
      "metadata": {
        "id": "dS9V7hD6ORi-"
      },
      "outputs": [],
      "source": [
        "!pip install -q -U google-generativeai"
      ]
    },
    {
      "cell_type": "code",
      "source": [
        "\n",
        "\n"
      ],
      "metadata": {
        "id": "P-q7aF-bjY1x"
      },
      "execution_count": null,
      "outputs": []
    },
    {
      "cell_type": "code",
      "source": [
        "# Import the Python SDK\n",
        "import google.generativeai as genai\n",
        "\n",
        "from google.colab import userdata"
      ],
      "metadata": {
        "id": "w2BueyNMPuFx"
      },
      "execution_count": 6,
      "outputs": []
    },
    {
      "cell_type": "code",
      "source": [
        "api_key=userdata.get('API_KEY')\n",
        "genai.configure(api_key=api_key)"
      ],
      "metadata": {
        "id": "pCVL7cdtPyf0"
      },
      "execution_count": 7,
      "outputs": []
    },
    {
      "cell_type": "markdown",
      "source": [
        "Listar os modelos disponíveis\n"
      ],
      "metadata": {
        "id": "_aMTHBvsQdFz"
      }
    },
    {
      "cell_type": "code",
      "source": [
        "for m in genai.list_models():\n",
        "  if 'generateContent' in m.supported_generation_methods:\n",
        "    print(m.name)"
      ],
      "metadata": {
        "colab": {
          "base_uri": "https://localhost:8080/",
          "height": 142
        },
        "id": "a0Z1gEW6Qfqr",
        "outputId": "beaf57a6-d9f3-4960-d661-af9e868148b8"
      },
      "execution_count": null,
      "outputs": [
        {
          "output_type": "stream",
          "name": "stdout",
          "text": [
            "models/gemini-1.0-pro\n",
            "models/gemini-1.0-pro-001\n",
            "models/gemini-1.0-pro-latest\n",
            "models/gemini-1.0-pro-vision-latest\n",
            "models/gemini-1.5-pro-latest\n",
            "models/gemini-pro\n",
            "models/gemini-pro-vision\n"
          ]
        }
      ]
    },
    {
      "cell_type": "markdown",
      "source": [
        "models/gemini-pro-vision.  - >> serve para usar a multimodalidade\n",
        "models/gemini-pro - >> somente prompts de texto"
      ],
      "metadata": {
        "id": "eGz45iPLSGVA"
      }
    },
    {
      "cell_type": "markdown",
      "source": [
        "top_p ->  **top_p (probabilidade nucleada):**\n",
        "\n",
        "* Controla a probabilidade das palavras mais prováveis serem amostradas.\n",
        "* Um valor mais alto de top_p resultará em respostas mais diversas, mas potencialmente menos precisas.\n",
        "* Ao definir top_p para 1, o modelo escolherá a palavra mais provável em cada etapa.\n",
        "\n",
        "top_k ->  **top_k (número de palavras):**\n",
        "\n",
        "* Controla o número das palavras mais prováveis que serão consideradas na amostragem.\n",
        "* Um valor mais alto de top_k resultará em respostas mais precisas, mas menos diversas.\n",
        "* Ao definir top_k para 1, o modelo escolherá apenas a palavra mais provável em cada etapa.\n",
        "\n",
        "Geralmente, um valor mais alto de top_p promoverá respostas mais originais e criativas, enquanto um valor mais alto de top_k produzirá respostas mais precisas e semelhantes ao ser humano.\n"
      ],
      "metadata": {
        "id": "JugU2v_5TVYh"
      }
    },
    {
      "cell_type": "code",
      "source": [
        "# Set up the model\n",
        "generation_config = {\n",
        "  \"candidate_count\" : 1,\n",
        "  \"temperature\": 0.5,\n",
        "  \"top_p\": 0.95,\n",
        "  \"top_k\": 32,\n",
        "  \"max_output_tokens\": 1024,\n",
        "}"
      ],
      "metadata": {
        "id": "nz3XkcnYTDBb"
      },
      "execution_count": 8,
      "outputs": []
    },
    {
      "cell_type": "code",
      "source": [
        "safety_settings = {\n",
        "    \"HARASSMENT\": \"BLOCK_NONE\",\n",
        "    \"HATE\": \"BLOCK_NONE\",\n",
        "    \"SEXUAL\": \"BLOCK_NONE\",\n",
        "    \"DANGEROUS\": \"BLOCK_NONE\"\n",
        "  }"
      ],
      "metadata": {
        "id": "XgtyZgRhUGWT"
      },
      "execution_count": 9,
      "outputs": []
    },
    {
      "cell_type": "markdown",
      "source": [
        "Initialize the Generative Model\n"
      ],
      "metadata": {
        "id": "y7oH4da7P2iI"
      }
    },
    {
      "cell_type": "code",
      "source": [
        "model = genai.GenerativeModel(model_name=\"gemini-1.0-pro\", generation_config=generation_config, safety_settings=safety_settings)"
      ],
      "metadata": {
        "id": "PRnS4IBNP59P"
      },
      "execution_count": 10,
      "outputs": []
    },
    {
      "cell_type": "markdown",
      "source": [
        "Generate text"
      ],
      "metadata": {
        "id": "4LklwtToQBaa"
      }
    },
    {
      "cell_type": "code",
      "source": [
        "response = model.generate_content(\"Vamos estudar sobre IA com python e gemini, me de umas sugestões de estudos. \")\n",
        "print(response.text)"
      ],
      "metadata": {
        "colab": {
          "base_uri": "https://localhost:8080/",
          "height": 573
        },
        "id": "bjt2hpDxP_Bk",
        "outputId": "ffe1652b-b444-45e6-b2bb-bd275eb00f4b"
      },
      "execution_count": null,
      "outputs": [
        {
          "output_type": "stream",
          "name": "stdout",
          "text": [
            "**Introdução à IA com Python**\n",
            "\n",
            "* [Introdução à IA com Python](https://www.coursera.org/specializations/ai-python)\n",
            "* [Introdução à Inteligência Artificial com Python](https://www.edx.org/course/introduction-artificial-intelligence-python)\n",
            "* [Inteligência Artificial com Python](https://www.udacity.com/school-of-ai/degree/nd032)\n",
            "\n",
            "**Aprendizado de Máquina com Python**\n",
            "\n",
            "* [Aprendizado de Máquina com Python](https://www.coursera.org/specializations/machine-learning-python)\n",
            "* [Aprendizado de Máquina com Python: Uma Abordagem Prática](https://www.edx.org/course/machine-learning-python-practical-approach)\n",
            "* [Aprendizado de Máquina com Python e Scikit-Learn](https://www.datacamp.com/courses/machine-learning-python-scikit-learn)\n",
            "\n",
            "**Aprendizado Profundo com Python**\n",
            "\n",
            "* [Aprendizado Profundo com Python](https://www.coursera.org/specializations/deep-learning-python)\n",
            "* [Aprendizado Profundo com Python e Keras](https://www.edx.org/course/deep-learning-python-keras)\n",
            "* [Aprendizado Profundo com Python e TensorFlow](https://www.datacamp.com/courses/deep-learning-tensorflow)\n",
            "\n",
            "**Gemini**\n",
            "\n",
            "* [Introdução ao Gemini](https://docs.gemini.com/docs/introduction)\n",
            "* [Tutorial do Gemini](https://docs.gemini.com/docs/tutorial)\n",
            "* [Documentação do Gemini](https://docs.gemini.com/)\n",
            "\n",
            "**Recursos Adicionais**\n",
            "\n",
            "* [Scikit-Learn](https://scikit-learn.org/)\n",
            "* [TensorFlow](https://www.tensorflow.org/)\n",
            "* [Keras](https://keras.io/)\n",
            "* [Comunidade Gemini](https://community.gemini.com/)\n"
          ]
        }
      ]
    },
    {
      "cell_type": "code",
      "source": [
        "chat = model.start_chat(history=[])"
      ],
      "metadata": {
        "id": "npogldAtZjj_"
      },
      "execution_count": 11,
      "outputs": []
    },
    {
      "cell_type": "code",
      "source": [
        "prompt = input(\"Esperando prompt: \")\n",
        "\n",
        "while prompt != \"fim\":\n",
        "  response = chat.send_message(prompt)\n",
        "  print(\"Resposta: \", response.text, \"\\n\")\n",
        "  prompt = input(\"Esperando prompt: \")\n",
        "\n"
      ],
      "metadata": {
        "colab": {
          "base_uri": "https://localhost:8080/",
          "height": 376
        },
        "id": "bD7OgU6IZ_vG",
        "outputId": "9bdd3e5c-c9eb-4ecd-d61a-ba7c8e2095f7"
      },
      "execution_count": 12,
      "outputs": [
        {
          "name": "stdout",
          "output_type": "stream",
          "text": [
            "Esperando prompt: Qual a capital do Rio Grande do Sul ? \n",
            "Resposta:  Porto Alegre \n",
            "\n",
            "Esperando prompt: e qual a população ? \n",
            "Resposta:  1.492.055 (estimativa de 2023) \n",
            "\n",
            "Esperando prompt: e a de santo antonio da patrulha ? \n",
            "Resposta:  43.685 (estimativa de 2023) \n",
            "\n",
            "Esperando prompt: e de TK ?\n",
            "Resposta:  Não existe uma cidade ou região conhecida como \"TK\". Por favor, forneça o nome completo da cidade ou região para que eu possa fornecer informações sobre a população. \n",
            "\n",
            "Esperando prompt: Taquari \n",
            "Resposta:  25.407 (estimativa de 2023) \n",
            "\n",
            "Esperando prompt: fim \n",
            "Resposta:  Obrigado por usar meus serviços. Até a próxima! \n",
            "\n",
            "Esperando prompt: fim\n"
          ]
        }
      ]
    }
  ]
}